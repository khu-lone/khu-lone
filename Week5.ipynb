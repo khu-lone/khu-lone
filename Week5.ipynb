{
  "nbformat": 4,
  "nbformat_minor": 0,
  "metadata": {
    "colab": {
      "provenance": [],
      "authorship_tag": "ABX9TyPZGfavDFUpxLb4yr/uiJTg",
      "include_colab_link": true
    },
    "kernelspec": {
      "name": "python3",
      "display_name": "Python 3"
    },
    "language_info": {
      "name": "python"
    }
  },
  "cells": [
    {
      "cell_type": "markdown",
      "metadata": {
        "id": "view-in-github",
        "colab_type": "text"
      },
      "source": [
        "<a href=\"https://colab.research.google.com/github/khu-lone/khu-lone/blob/main/Week5.ipynb\" target=\"_parent\"><img src=\"https://colab.research.google.com/assets/colab-badge.svg\" alt=\"Open In Colab\"/></a>"
      ]
    },
    {
      "cell_type": "code",
      "source": [
        "# # import all of the functions from SymPy library.\n",
        "from sympy import *\n",
        "n , x , y = symbols(\"n x y\") # Declare symbolic objects"
      ],
      "metadata": {
        "id": "gB3AxSGhFuXT"
      },
      "execution_count": 2,
      "outputs": []
    },
    {
      "cell_type": "markdown",
      "source": [
        "1 (a) Factorise $x^2 - 7x - 30 = 0$"
      ],
      "metadata": {
        "id": "aPsOISkFHbml"
      }
    },
    {
      "cell_type": "code",
      "source": [
        "# Factorization.\n",
        "factor(x**3 - y**3)"
      ],
      "metadata": {
        "colab": {
          "base_uri": "https://localhost:8080/",
          "height": 38
        },
        "id": "ME3t6hD0GmmJ",
        "outputId": "f1012d07-0e60-456e-d9f2-57b1e155c10d"
      },
      "execution_count": null,
      "outputs": [
        {
          "output_type": "execute_result",
          "data": {
            "text/plain": [
              "(x - y)*(x**2 + x*y + y**2)"
            ],
            "text/latex": "$\\displaystyle \\left(x - y\\right) \\left(x^{2} + x y + y^{2}\\right)$"
          },
          "metadata": {},
          "execution_count": 13
        }
      ]
    },
    {
      "cell_type": "markdown",
      "source": [
        "(b) Solve $x^2 - 7x - 30 = 0$"
      ],
      "metadata": {
        "id": "57_zFDMnG8CS"
      }
    },
    {
      "cell_type": "code",
      "source": [
        "# Solve the algebraic quadratic equation.\n",
        "solve(x**2 - 7 * x - 30 , x)"
      ],
      "metadata": {
        "colab": {
          "base_uri": "https://localhost:8080/"
        },
        "id": "nNjzropdG1WX",
        "outputId": "ef30a0b1-540b-418f-a219-df1cab879cc1"
      },
      "execution_count": null,
      "outputs": [
        {
          "output_type": "execute_result",
          "data": {
            "text/plain": [
              "[-3, 10]"
            ]
          },
          "metadata": {},
          "execution_count": 21
        }
      ]
    },
    {
      "cell_type": "markdown",
      "source": [
        " (c) Split into partial fractions $\\frac{3x}{(x-1)(x+2)(x-5)}$"
      ],
      "metadata": {
        "id": "nVp8UKz_Hq5s"
      }
    },
    {
      "cell_type": "code",
      "source": [
        "# Partial fractions.\n",
        "apart(3 * x / ((x - 1)*(x + 2)*(x - 5)))"
      ],
      "metadata": {
        "colab": {
          "base_uri": "https://localhost:8080/",
          "height": 55
        },
        "id": "qzi2RZtbIbMr",
        "outputId": "e0556ef4-7577-4b37-b7cd-72aaef862526"
      },
      "execution_count": null,
      "outputs": [
        {
          "output_type": "execute_result",
          "data": {
            "text/plain": [
              "-2/(7*(x + 2)) - 1/(4*(x - 1)) + 15/(28*(x - 5))"
            ],
            "text/latex": "$\\displaystyle - \\frac{2}{7 \\left(x + 2\\right)} - \\frac{1}{4 \\left(x - 1\\right)} + \\frac{15}{28 \\left(x - 5\\right)}$"
          },
          "metadata": {},
          "execution_count": 22
        }
      ]
    },
    {
      "cell_type": "markdown",
      "source": [
        "(d) Expand $(y+x-3)(x^2-y+4)$"
      ],
      "metadata": {
        "id": "V9JISDSuJHTi"
      }
    },
    {
      "cell_type": "code",
      "source": [
        "# Expansion.\n",
        "expand((y + x - 3) * (x**2 -y + 4))"
      ],
      "metadata": {
        "colab": {
          "base_uri": "https://localhost:8080/",
          "height": 38
        },
        "id": "IewqzZ4iJVqV",
        "outputId": "fce28316-e4d1-4bf6-a4cc-d4c0611d0260"
      },
      "execution_count": null,
      "outputs": [
        {
          "output_type": "execute_result",
          "data": {
            "text/plain": [
              "x**3 + x**2*y - 3*x**2 - x*y + 4*x - y**2 + 7*y - 12"
            ],
            "text/latex": "$\\displaystyle x^{3} + x^{2} y - 3 x^{2} - x y + 4 x - y^{2} + 7 y - 12$"
          },
          "metadata": {},
          "execution_count": 20
        }
      ]
    },
    {
      "cell_type": "markdown",
      "source": [
        "(e) Solve the linear simultaneous equations: $y=2x+2 and y=-3x+1$"
      ],
      "metadata": {
        "id": "hrrs4ir1KcKo"
      }
    },
    {
      "cell_type": "code",
      "source": [
        "# Solving linear simultaneous equations.\n",
        "solve([2 * x + 2 - y , -3 * x + 1 - y] , [x , y])"
      ],
      "metadata": {
        "colab": {
          "base_uri": "https://localhost:8080/"
        },
        "id": "M_9BG5GqK2FI",
        "outputId": "08c69234-74ba-422b-bcd2-cc6cd2210737"
      },
      "execution_count": null,
      "outputs": [
        {
          "output_type": "execute_result",
          "data": {
            "text/plain": [
              "{x: -1/5, y: 8/5}"
            ]
          },
          "metadata": {},
          "execution_count": 27
        }
      ]
    },
    {
      "cell_type": "markdown",
      "source": [
        "2 Compute the following using SymPy:\n",
        "(a) $\\lim_{x \\rightarrow1} \\frac{x-1}{x^2-1}$"
      ],
      "metadata": {
        "id": "atMypBplMcP9"
      }
    },
    {
      "cell_type": "code",
      "source": [
        "# Limits.\n",
        "limit((x - 1) / (x**2 - 1) , x , 1)"
      ],
      "metadata": {
        "colab": {
          "base_uri": "https://localhost:8080/",
          "height": 51
        },
        "id": "0kelYdc9NP7k",
        "outputId": "24a1df6d-b264-48f5-efd7-aa576d5293ad"
      },
      "execution_count": null,
      "outputs": [
        {
          "output_type": "execute_result",
          "data": {
            "text/plain": [
              "1/2"
            ],
            "text/latex": "$\\displaystyle \\frac{1}{2}$"
          },
          "metadata": {},
          "execution_count": 31
        }
      ]
    },
    {
      "cell_type": "markdown",
      "source": [
        "(b) The dervivative of $y = x^2-6x+9$"
      ],
      "metadata": {
        "id": "-36_-qODN6ZH"
      }
    },
    {
      "cell_type": "code",
      "source": [
        "# Differentiation.\n",
        "diff(x**2 - 6 * x + 9 , x)"
      ],
      "metadata": {
        "colab": {
          "base_uri": "https://localhost:8080/",
          "height": 38
        },
        "id": "MO_ECZrfOF3C",
        "outputId": "4ae63107-3ed4-4f3f-b909-03c22699452b"
      },
      "execution_count": null,
      "outputs": [
        {
          "output_type": "execute_result",
          "data": {
            "text/plain": [
              "2*x - 6"
            ],
            "text/latex": "$\\displaystyle 2 x - 6$"
          },
          "metadata": {},
          "execution_count": 28
        }
      ]
    },
    {
      "cell_type": "markdown",
      "source": [
        "(c) The derivative of $y=cos(3x)$"
      ],
      "metadata": {
        "id": "PG-YUctaOoq3"
      }
    },
    {
      "cell_type": "code",
      "source": [
        "# Differentiation.\n",
        "diff(cos(3 * x) , x)"
      ],
      "metadata": {
        "colab": {
          "base_uri": "https://localhost:8080/",
          "height": 39
        },
        "id": "756H7mwNOzC2",
        "outputId": "659f43e4-7e4b-4774-8228-9fe026708ae3"
      },
      "execution_count": 3,
      "outputs": [
        {
          "output_type": "execute_result",
          "data": {
            "text/plain": [
              "-3*sin(3*x)"
            ],
            "text/latex": "$\\displaystyle - 3 \\sin{\\left(3 x \\right)}$"
          },
          "metadata": {},
          "execution_count": 3
        }
      ]
    },
    {
      "cell_type": "markdown",
      "source": [
        "(d) The derivative of $y = 2e^x - 1$\n"
      ],
      "metadata": {
        "id": "EIgE_adYP-ML"
      }
    },
    {
      "cell_type": "code",
      "source": [
        "# Differentiation.\n",
        "diff(2 * exp(x) - 1 , x)"
      ],
      "metadata": {
        "colab": {
          "base_uri": "https://localhost:8080/",
          "height": 39
        },
        "id": "Y58UfSg3QSvP",
        "outputId": "8fd815c0-e321-4bda-9bb9-03caed1ee827"
      },
      "execution_count": 4,
      "outputs": [
        {
          "output_type": "execute_result",
          "data": {
            "text/plain": [
              "2*exp(x)"
            ],
            "text/latex": "$\\displaystyle 2 e^{x}$"
          },
          "metadata": {},
          "execution_count": 4
        }
      ]
    },
    {
      "cell_type": "markdown",
      "source": [
        "(e) The derivative of $y=xsin(x)$"
      ],
      "metadata": {
        "id": "-IIcmUcvQ1cs"
      }
    },
    {
      "cell_type": "code",
      "source": [
        "# Differentiation.\n",
        "diff(x * sin(x) , x)"
      ],
      "metadata": {
        "colab": {
          "base_uri": "https://localhost:8080/",
          "height": 39
        },
        "id": "VD7AKBjH-RxN",
        "outputId": "b65b5ebb-a590-41fb-ab00-791d644c11be"
      },
      "execution_count": 8,
      "outputs": [
        {
          "output_type": "execute_result",
          "data": {
            "text/plain": [
              "x*cos(x) + sin(x)"
            ],
            "text/latex": "$\\displaystyle x \\cos{\\left(x \\right)} + \\sin{\\left(x \\right)}$"
          },
          "metadata": {},
          "execution_count": 8
        }
      ]
    },
    {
      "cell_type": "markdown",
      "source": [
        "(e) The derivative of $y=xsin(2x)$"
      ],
      "metadata": {
        "id": "Gkrm4txc_xnX"
      }
    },
    {
      "cell_type": "code",
      "source": [
        "# Differentiation.\n",
        "diff(x * sin(2 * x))"
      ],
      "metadata": {
        "colab": {
          "base_uri": "https://localhost:8080/",
          "height": 38
        },
        "id": "wSxBWs4CRCbH",
        "outputId": "c8628f7b-9437-4319-dfe8-416cc66648cb"
      },
      "execution_count": null,
      "outputs": [
        {
          "output_type": "execute_result",
          "data": {
            "text/plain": [
              "2*x*cos(2*x) + sin(2*x)"
            ],
            "text/latex": "$\\displaystyle 2 x \\cos{\\left(2 x \\right)} + \\sin{\\left(2 x \\right)}$"
          },
          "metadata": {},
          "execution_count": 39
        }
      ]
    },
    {
      "cell_type": "markdown",
      "source": [
        "3.  Determine the following integrals using SymPy:\n",
        "(a) $\\int x^5 dx.$"
      ],
      "metadata": {
        "id": "QfADvmBsRmSj"
      }
    },
    {
      "cell_type": "code",
      "source": [
        "# Indefinite integration.\n",
        "print(integrate(x**5) , \"+ c\")"
      ],
      "metadata": {
        "colab": {
          "base_uri": "https://localhost:8080/"
        },
        "id": "PiMagnLaR8Rz",
        "outputId": "b2b61fc1-eb1b-4e09-912f-f8e208e0d678"
      },
      "execution_count": null,
      "outputs": [
        {
          "output_type": "stream",
          "name": "stdout",
          "text": [
            "x**6/6 + c\n"
          ]
        }
      ]
    },
    {
      "cell_type": "markdown",
      "source": [
        "(b)$\\int^4_{x=1} x^5dx$"
      ],
      "metadata": {
        "id": "E-epCryeS1Ze"
      }
    },
    {
      "cell_type": "code",
      "source": [
        "# Definite integration (to determine the area under a curve).\n",
        "\n",
        "integrate(x**5 , (x , 1 , 4))"
      ],
      "metadata": {
        "colab": {
          "base_uri": "https://localhost:8080/",
          "height": 51
        },
        "id": "K-UBwK8MTo3T",
        "outputId": "accaec19-b339-402e-b5f4-c2269eef44c6"
      },
      "execution_count": null,
      "outputs": [
        {
          "output_type": "execute_result",
          "data": {
            "text/plain": [
              "1365/2"
            ],
            "text/latex": "$\\displaystyle \\frac{1365}{2}$"
          },
          "metadata": {},
          "execution_count": 57
        }
      ]
    },
    {
      "cell_type": "markdown",
      "source": [
        "(c)$\\int cos(3x)dx.$"
      ],
      "metadata": {
        "id": "KCgnZYfxT6tm"
      }
    },
    {
      "cell_type": "code",
      "source": [
        "# Indefinite integration.\n",
        "print(integrate(cos(3 * x) , (x)), \"+c\")"
      ],
      "metadata": {
        "colab": {
          "base_uri": "https://localhost:8080/"
        },
        "id": "PAbHFw_rUL5d",
        "outputId": "9615df9a-b766-4a6d-ab95-7ea07617d542"
      },
      "execution_count": null,
      "outputs": [
        {
          "output_type": "stream",
          "name": "stdout",
          "text": [
            "sin(3*x)/3 +c\n"
          ]
        }
      ]
    },
    {
      "cell_type": "markdown",
      "source": [
        "(d)$\\int^1_{x=0}x sin(x)dx$"
      ],
      "metadata": {
        "id": "QrOjc0GnUZqt"
      }
    },
    {
      "cell_type": "code",
      "source": [
        "# Definite integration (to determine the area under a curve).\n",
        "integrate(x * sin(x) , (x , 0 , 1))"
      ],
      "metadata": {
        "colab": {
          "base_uri": "https://localhost:8080/",
          "height": 37
        },
        "id": "6jEcZ5edYtOO",
        "outputId": "9d59c53b-f1c1-489c-bc6b-08e7c1a0865c"
      },
      "execution_count": null,
      "outputs": [
        {
          "output_type": "execute_result",
          "data": {
            "text/plain": [
              "-cos(1) + sin(1)"
            ],
            "text/latex": "$\\displaystyle - \\cos{\\left(1 \\right)} + \\sin{\\left(1 \\right)}$"
          },
          "metadata": {},
          "execution_count": 60
        }
      ]
    },
    {
      "cell_type": "markdown",
      "source": [
        "(e)$\\int^\\infty_{x=1} \\frac{1}{x}dx$"
      ],
      "metadata": {
        "id": "eTWJElVzbA4q"
      }
    },
    {
      "cell_type": "code",
      "source": [
        "# Improper integration (to determine the area under a curve).\n",
        "integrate(1 / x , (x , 1 , oo))"
      ],
      "metadata": {
        "colab": {
          "base_uri": "https://localhost:8080/",
          "height": 37
        },
        "id": "uTvrgWxJbu_S",
        "outputId": "ce9db92e-4591-4eaf-b1d3-6a78190bb3ba"
      },
      "execution_count": null,
      "outputs": [
        {
          "output_type": "execute_result",
          "data": {
            "text/plain": [
              "oo"
            ],
            "text/latex": "$\\displaystyle \\infty$"
          },
          "metadata": {},
          "execution_count": 61
        }
      ]
    },
    {
      "cell_type": "markdown",
      "source": [
        "4. given that\n",
        "$A = \\begin{pmatrix}1 & 2\\\\\n",
        "-1 & 0\n",
        "\\end{pmatrix} and B =  \\begin{pmatrix}1 & -3\\\\\n",
        "4 & 7\n",
        "\\end{pmatrix}$\n",
        "determine\n",
        "#####(a) 2A"
      ],
      "metadata": {
        "id": "ZOZ7G9kccCln"
      }
    },
    {
      "cell_type": "code",
      "source": [
        "# Define two 2x2 matrices.\n",
        "A , B = Matrix([[1 , 2] , [-1 , 0]]) , Matrix([[1 , -3] , [4 , 7]])\n",
        "2 * A"
      ],
      "metadata": {
        "id": "IfottLEadD_1",
        "colab": {
          "base_uri": "https://localhost:8080/",
          "height": 58
        },
        "outputId": "6bf1e094-a6af-4325-f414-f537599d4ccd"
      },
      "execution_count": 9,
      "outputs": [
        {
          "output_type": "execute_result",
          "data": {
            "text/plain": [
              "Matrix([\n",
              "[ 2, 4],\n",
              "[-2, 0]])"
            ],
            "text/latex": "$\\displaystyle \\left[\\begin{matrix}2 & 4\\\\-2 & 0\\end{matrix}\\right]$"
          },
          "metadata": {},
          "execution_count": 9
        }
      ]
    },
    {
      "cell_type": "markdown",
      "source": [
        "4. given that\n",
        "$A = \\begin{pmatrix}1 & 2\\\\\n",
        "-1 & 0\n",
        "\\end{pmatrix} and B =  \\begin{pmatrix}1 & -3\\\\\n",
        "4 & 7\n",
        "\\end{pmatrix}$\n",
        "determine\n",
        "#####(b) 3A + 4B"
      ],
      "metadata": {
        "id": "ZVc0K7N1BYuQ"
      }
    },
    {
      "cell_type": "code",
      "source": [
        "#  Matrix Algebra\n",
        "3 * A + 4 * B"
      ],
      "metadata": {
        "colab": {
          "base_uri": "https://localhost:8080/",
          "height": 58
        },
        "id": "4xQxIgwEB4XW",
        "outputId": "e9b4dcb9-b551-484f-b2ab-884a487ce8e0"
      },
      "execution_count": 10,
      "outputs": [
        {
          "output_type": "execute_result",
          "data": {
            "text/plain": [
              "Matrix([\n",
              "[ 7, -6],\n",
              "[13, 28]])"
            ],
            "text/latex": "$\\displaystyle \\left[\\begin{matrix}7 & -6\\\\13 & 28\\end{matrix}\\right]$"
          },
          "metadata": {},
          "execution_count": 10
        }
      ]
    },
    {
      "cell_type": "markdown",
      "source": [
        "4. given that\n",
        "$A = \\begin{pmatrix}1 & 2\\\\\n",
        "-1 & 0\n",
        "\\end{pmatrix} and B =  \\begin{pmatrix}1 & -3\\\\\n",
        "4 & 7\n",
        "\\end{pmatrix}$\n",
        "determine\n",
        "#####(a) $A \\times B$"
      ],
      "metadata": {
        "id": "rXy8aZsDCJ4s"
      }
    },
    {
      "cell_type": "code",
      "source": [
        "#  Matrix Algebra\n",
        "A * B"
      ],
      "metadata": {
        "colab": {
          "base_uri": "https://localhost:8080/",
          "height": 58
        },
        "id": "J6ZOpEfPCJct",
        "outputId": "ed8bd8b1-ed0c-47fc-90d7-468235bc0644"
      },
      "execution_count": 11,
      "outputs": [
        {
          "output_type": "execute_result",
          "data": {
            "text/plain": [
              "Matrix([\n",
              "[ 9, 11],\n",
              "[-1,  3]])"
            ],
            "text/latex": "$\\displaystyle \\left[\\begin{matrix}9 & 11\\\\-1 & 3\\end{matrix}\\right]$"
          },
          "metadata": {},
          "execution_count": 11
        }
      ]
    },
    {
      "cell_type": "markdown",
      "source": [
        "4. given that\n",
        "$A = \\begin{pmatrix}1 & 2\\\\\n",
        "-1 & 0\n",
        "\\end{pmatrix} and B =  \\begin{pmatrix}1 & -3\\\\\n",
        "4 & 7\n",
        "\\end{pmatrix}$\n",
        "determine\n",
        "#####(d) The inverse of **A**, if it exists."
      ],
      "metadata": {
        "id": "CGN78arXHPPr"
      }
    },
    {
      "cell_type": "code",
      "source": [
        "# Matrix inverse\n",
        "A.inv()"
      ],
      "metadata": {
        "colab": {
          "base_uri": "https://localhost:8080/",
          "height": 58
        },
        "id": "dX5dSLiFHi7h",
        "outputId": "575bcf54-b3a5-4df5-e648-bc6b1830c132"
      },
      "execution_count": 12,
      "outputs": [
        {
          "output_type": "execute_result",
          "data": {
            "text/plain": [
              "Matrix([\n",
              "[  0,  -1],\n",
              "[1/2, 1/2]])"
            ],
            "text/latex": "$\\displaystyle \\left[\\begin{matrix}0 & -1\\\\\\frac{1}{2} & \\frac{1}{2}\\end{matrix}\\right]$"
          },
          "metadata": {},
          "execution_count": 12
        }
      ]
    },
    {
      "cell_type": "markdown",
      "source": [
        "4. given that\n",
        "$A = \\begin{pmatrix}1 & 2\\\\\n",
        "-1 & 0\n",
        "\\end{pmatrix} and B =  \\begin{pmatrix}1 & -3\\\\\n",
        "4 & 7\n",
        "\\end{pmatrix}$\n",
        "determine\n",
        "#####(e) The determinant of **B**."
      ],
      "metadata": {
        "id": "pKloa9aKHumL"
      }
    },
    {
      "cell_type": "code",
      "source": [
        "# The determinant.\n",
        "B.det()"
      ],
      "metadata": {
        "colab": {
          "base_uri": "https://localhost:8080/",
          "height": 37
        },
        "id": "zUIx2KXLH8Rn",
        "outputId": "a3ba55c6-9cce-448c-f921-2693c20d6994"
      },
      "execution_count": 15,
      "outputs": [
        {
          "output_type": "execute_result",
          "data": {
            "text/plain": [
              "19"
            ],
            "text/latex": "$\\displaystyle 19$"
          },
          "metadata": {},
          "execution_count": 15
        }
      ]
    }
  ]
}